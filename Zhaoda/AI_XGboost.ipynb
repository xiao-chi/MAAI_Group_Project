{
 "cells": [
  {
   "cell_type": "code",
   "execution_count": 7,
   "metadata": {},
   "outputs": [],
   "source": [
    "import pandas as pd \n",
    "import numpy as np\n",
    "from xgboost import XGBClassifier\n",
    "from sklearn.metrics import f1_score, classification_report, confusion_matrix, roc_auc_score, \\\n",
    "                            precision_score, make_scorer\n",
    "from sklearn.ensemble import RandomForestClassifier, AdaBoostClassifier, GradientBoostingClassifier\n",
    "from sklearn.linear_model import LogisticRegression, SGDClassifier\n"
   ]
  },
  {
   "cell_type": "code",
   "execution_count": 5,
   "metadata": {},
   "outputs": [],
   "source": [
    "train = pd.read_csv('train.csv')\n",
    "test = pd.read_csv('test.csv')\n",
    "validation = pd.read_csv('validation.csv')"
   ]
  },
  {
   "cell_type": "code",
   "execution_count": null,
   "metadata": {},
   "outputs": [],
   "source": []
  },
  {
   "cell_type": "code",
   "execution_count": null,
   "metadata": {},
   "outputs": [],
   "source": [
    "def classifier(model,  x_train, y_train, x_val, y_val):\n",
    "        # Fit classifier to training data\n",
    "    % time model.fit(x_train, y_train)\n",
    "        # Predict on validation set\n",
    "    preds = model.predict(x_val)\n",
    "    print('preds: ' + preds )\n",
    "        # Predicted probabilities\n",
    "    pred_proba = model.predict_proba(x_val)\n",
    "    print('pred_proba: ' + pred_proba)\n",
    "    pred_proba_click = [p[1] for p in pred_proba]\n",
    "  \n",
    "        # Evaluate performance\n",
    "    print(\"\\n\")\n",
    "    print(\"Confusion Matrix:\")\n",
    "    print(confusion_matrix(y_val, preds))  #把0分为0 的个数，0-1，1-0，1-1\n",
    "    print(\"\\n\")\n",
    "    \n",
    "        # The most important measure is TP/FP rate for the clicked class\n",
    "    kpi = precision_score(y_val, preds)*100\n",
    "    print(\"Click Precision: {}\".format(kpi))\n",
    "    \n",
    "    # Store probabilities\n",
    "    submission = pd.DataFrame(data = list(zip(validation[\"bidid\"], pred_proba_click)),  #validation is the validation dataset\n",
    "                               columns = [\"bidid\", \"click_proba\"])\n",
    "    \n",
    "    #submission.to_csv(lr.__doc__.split(\"(\")[0][:-1] + \".csv\")\n",
    "    \n",
    "    return kpi, submission"
   ]
  },
  {
   "cell_type": "markdown",
   "metadata": {},
   "source": [
    "# Logistic Regression"
   ]
  },
  {
   "cell_type": "code",
   "execution_count": null,
   "metadata": {},
   "outputs": [],
   "source": [
    "lr_res, lr_sub = classifier(LogisticRegression(C = 0.1, random_state = rand_seed), \\\n",
    "                            features_lr)"
   ]
  },
  {
   "cell_type": "markdown",
   "metadata": {},
   "source": [
    "# Xgboost"
   ]
  },
  {
   "cell_type": "code",
   "execution_count": null,
   "metadata": {},
   "outputs": [],
   "source": [
    "xgb_res, xgb_sub = classifier(XGBClassifier(n_estimators = 500, max_depth = 8, learning_rate = 0.1, random_state = rand_seed), \n",
    "                                            features_rf)"
   ]
  },
  {
   "cell_type": "code",
   "execution_count": null,
   "metadata": {},
   "outputs": [],
   "source": []
  },
  {
   "cell_type": "markdown",
   "metadata": {},
   "source": [
    "# Random Forest"
   ]
  },
  {
   "cell_type": "code",
   "execution_count": null,
   "metadata": {},
   "outputs": [],
   "source": [
    "rf_res, rf_sub = classifier(RandomForestClassifier(n_estimators = 1000, random_state = rand_seed), \\\n",
    "                                          features_rf)"
   ]
  }
 ],
 "metadata": {
  "kernelspec": {
   "display_name": "Python 3",
   "language": "python",
   "name": "python3"
  },
  "language_info": {
   "codemirror_mode": {
    "name": "ipython",
    "version": 3
   },
   "file_extension": ".py",
   "mimetype": "text/x-python",
   "name": "python",
   "nbconvert_exporter": "python",
   "pygments_lexer": "ipython3",
   "version": "3.6.6"
  },
  "toc": {
   "base_numbering": 1,
   "nav_menu": {},
   "number_sections": true,
   "sideBar": true,
   "skip_h1_title": false,
   "title_cell": "Table of Contents",
   "title_sidebar": "Contents",
   "toc_cell": false,
   "toc_position": {},
   "toc_section_display": true,
   "toc_window_display": false
  },
  "varInspector": {
   "cols": {
    "lenName": 16,
    "lenType": 16,
    "lenVar": 40
   },
   "kernels_config": {
    "python": {
     "delete_cmd_postfix": "",
     "delete_cmd_prefix": "del ",
     "library": "var_list.py",
     "varRefreshCmd": "print(var_dic_list())"
    },
    "r": {
     "delete_cmd_postfix": ") ",
     "delete_cmd_prefix": "rm(",
     "library": "var_list.r",
     "varRefreshCmd": "cat(var_dic_list()) "
    }
   },
   "types_to_exclude": [
    "module",
    "function",
    "builtin_function_or_method",
    "instance",
    "_Feature"
   ],
   "window_display": false
  }
 },
 "nbformat": 4,
 "nbformat_minor": 2
}
